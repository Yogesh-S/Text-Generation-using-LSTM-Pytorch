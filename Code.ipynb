{
 "cells": [
  {
   "cell_type": "markdown",
   "metadata": {},
   "source": [
    "# Character-Level LSTM in PyTorch\n",
    "\n",
    "This network is based off of Andrej Karpathy's [post on RNNs](http://karpathy.github.io/2015/05/21/rnn-effectiveness/) and [implementation in Torch](https://github.com/karpathy/char-rnn). Below is the general architecture of the character-wise RNN.\n",
    "\n",
    "<img src=\"assets/charseq.jpeg\" width=\"500\">"
   ]
  },
  {
   "cell_type": "markdown",
   "metadata": {},
   "source": [
    "First let's load in our required resources for data loading and model creation."
   ]
  },
  {
   "cell_type": "code",
   "execution_count": 1,
   "metadata": {},
   "outputs": [],
   "source": [
    "import numpy as np\n",
    "import torch\n",
    "from torch import nn\n",
    "import torch.nn.functional as F"
   ]
  },
  {
   "cell_type": "markdown",
   "metadata": {},
   "source": [
    "## Load in Data\n",
    "\n",
    "Then, we'll load the Anna Karenina text file and convert it into integers for our network to use. "
   ]
  },
  {
   "cell_type": "code",
   "execution_count": 2,
   "metadata": {},
   "outputs": [],
   "source": [
    "# open text file and read in data as `text`\n",
    "with open('data/anna.txt', 'r') as f:\n",
    "    text = f.read()"
   ]
  },
  {
   "cell_type": "markdown",
   "metadata": {},
   "source": [
    "Let's check out the first 100 characters, make sure everything is peachy. According to the [American Book Review](http://americanbookreview.org/100bestlines.asp), this is the 6th best first line of a book ever."
   ]
  },
  {
   "cell_type": "code",
   "execution_count": 3,
   "metadata": {},
   "outputs": [
    {
     "data": {
      "text/plain": [
       "'Chapter 1\\n\\n\\nHappy families are all alike; every unhappy family is unhappy in its own\\nway.\\n\\nEverythin'"
      ]
     },
     "execution_count": 3,
     "metadata": {},
     "output_type": "execute_result"
    }
   ],
   "source": [
    "text[:100]"
   ]
  },
  {
   "cell_type": "markdown",
   "metadata": {},
   "source": [
    "### Tokenization\n",
    "\n",
    "In the cells, below, we are going to create a couple of **dictionaries** to convert the characters to and from integers. Encoding the characters as integers makes it easier to use as input in the network."
   ]
  },
  {
   "cell_type": "code",
   "execution_count": 4,
   "metadata": {},
   "outputs": [],
   "source": [
    "# encode the text and map each character to an integer and vice versa\n",
    "\n",
    "# we create two dictionaries:\n",
    "# 1. int2char, which maps integers to characters\n",
    "# 2. char2int, which maps characters to unique integers\n",
    "chars = tuple(set(text))\n",
    "int2char = dict(enumerate(chars))\n",
    "char2int = {ch: ii for ii, ch in int2char.items()}\n",
    "\n",
    "# encode the text\n",
    "encoded = np.array([char2int[ch] for ch in text])"
   ]
  },
  {
   "cell_type": "markdown",
   "metadata": {},
   "source": [
    "And we can see those same characters from above, encoded as integers."
   ]
  },
  {
   "cell_type": "code",
   "execution_count": 5,
   "metadata": {},
   "outputs": [
    {
     "data": {
      "text/plain": [
       "array([45, 65, 14,  2, 46, 25, 55, 37, 68,  8,  8,  8, 50, 14,  2,  2, 62,\n",
       "       37, 48, 14,  3, 17, 38, 17, 25, 31, 37, 14, 55, 25, 37, 14, 38, 38,\n",
       "       37, 14, 38, 17, 19, 25, 52, 37, 25, 34, 25, 55, 62, 37, 78, 12, 65,\n",
       "       14,  2,  2, 62, 37, 48, 14,  3, 17, 38, 62, 37, 17, 31, 37, 78, 12,\n",
       "       65, 14,  2,  2, 62, 37, 17, 12, 37, 17, 46, 31, 37, 33, 76, 12,  8,\n",
       "       76, 14, 62, 15,  8,  8, 72, 34, 25, 55, 62, 46, 65, 17, 12])"
      ]
     },
     "execution_count": 5,
     "metadata": {},
     "output_type": "execute_result"
    }
   ],
   "source": [
    "encoded[:100]"
   ]
  },
  {
   "cell_type": "markdown",
   "metadata": {},
   "source": [
    "## Pre-processing the data\n",
    "\n",
    "As we can see in our char-RNN image above, our LSTM expects an input that is **one-hot encoded** meaning that each character is converted into an integer (via our created dictionary) and *then* converted into a column vector where only it's corresponding integer index will have the value of 1 and the rest of the vector will be filled with 0's. Since we're one-hot encoding the data, let's make a function to do that!\n"
   ]
  },
  {
   "cell_type": "code",
   "execution_count": 6,
   "metadata": {},
   "outputs": [],
   "source": [
    "def one_hot_encode(arr, n_labels):\n",
    "    \n",
    "    # Initialize the the encoded array\n",
    "    one_hot = np.zeros((arr.size, n_labels), dtype=np.float32)\n",
    "    \n",
    "    # Fill the appropriate elements with ones\n",
    "    one_hot[np.arange(one_hot.shape[0]), arr.flatten()] = 1.\n",
    "    \n",
    "    # Finally reshape it to get back to the original array\n",
    "    one_hot = one_hot.reshape((*arr.shape, n_labels))\n",
    "    \n",
    "    return one_hot"
   ]
  },
  {
   "cell_type": "code",
   "execution_count": 7,
   "metadata": {},
   "outputs": [
    {
     "name": "stdout",
     "output_type": "stream",
     "text": [
      "[[[0. 0. 0. 1. 0. 0. 0. 0.]\n",
      "  [0. 0. 0. 0. 0. 1. 0. 0.]\n",
      "  [0. 1. 0. 0. 0. 0. 0. 0.]]]\n"
     ]
    }
   ],
   "source": [
    "# check that the function works as expected\n",
    "test_seq = np.array([[3, 5, 1]])\n",
    "one_hot = one_hot_encode(test_seq, 8)\n",
    "\n",
    "print(one_hot)"
   ]
  },
  {
   "cell_type": "markdown",
   "metadata": {},
   "source": [
    "## Making training mini-batches\n",
    "\n",
    "\n",
    "To train on this data, we also want to create mini-batches for training. Remember that we want our batches to be multiple sequences of some desired number of sequence steps. Considering a simple example, our batches would look like this:\n",
    "\n",
    "<img src=\"assets/sequence_batching@1x.png\" width=500px>\n",
    "\n",
    "\n",
    "<br>\n",
    "\n",
    "In this example, we'll take the encoded characters (passed in as the `arr` parameter) and split them into multiple sequences, given by `batch_size`. Each of our sequences will be `seq_length` long.\n",
    "\n",
    "### Creating Batches\n",
    "\n",
    "**1. The first thing we need to do is discard some of the text so we only have completely full mini-batches. **\n",
    "\n",
    "Each batch contains $N \\times M$ characters, where $N$ is the batch size (the number of sequences in a batch) and $M$ is the seq_length or number of time steps in a sequence. Then, to get the total number of batches, $K$, that we can make from the array `arr`, you divide the length of `arr` by the number of characters per batch. Once you know the number of batches, you can get the total number of characters to keep from `arr`, $N * M * K$.\n",
    "\n",
    "**2. After that, we need to split `arr` into $N$ batches. ** \n",
    "\n",
    "You can do this using `arr.reshape(size)` where `size` is a tuple containing the dimensions sizes of the reshaped array. We know we want $N$ sequences in a batch, so let's make that the size of the first dimension. For the second dimension, you can use `-1` as a placeholder in the size, it'll fill up the array with the appropriate data for you. After this, you should have an array that is $N \\times (M * K)$.\n",
    "\n",
    "**3. Now that we have this array, we can iterate through it to get our mini-batches. **\n",
    "\n",
    "The idea is each batch is a $N \\times M$ window on the $N \\times (M * K)$ array. For each subsequent batch, the window moves over by `seq_length`. We also want to create both the input and target arrays. Remember that the targets are just the inputs shifted over by one character. The way I like to do this window is use `range` to take steps of size `n_steps` from $0$ to `arr.shape[1]`, the total number of tokens in each sequence. That way, the integers you get from `range` always point to the start of a batch, and each window is `seq_length` wide.\n",
    "\n",
    "> The code for creating batches is in the function below."
   ]
  },
  {
   "cell_type": "code",
   "execution_count": 8,
   "metadata": {},
   "outputs": [],
   "source": [
    "def get_batches(arr, batch_size, seq_length):\n",
    "    '''Create a generator that returns batches of size\n",
    "       batch_size x seq_length from arr.\n",
    "       \n",
    "       Arguments\n",
    "       ---------\n",
    "       arr: Array you want to make batches from\n",
    "       batch_size: Batch size, the number of sequences per batch\n",
    "       seq_length: Number of encoded chars in a sequence\n",
    "    '''\n",
    "    \n",
    "    ## TODO: Get the number of batches we can make\n",
    "    n_batches = int(len(arr)/(batch_size * seq_length))\n",
    "    \n",
    "    ## TODO: Keep only enough characters to make full batches\n",
    "    arr = arr[:batch_size * seq_length * n_batches]\n",
    "    \n",
    "    ## TODO: Reshape into batch_size rows\n",
    "    arr = arr.reshape((batch_size, -1))\n",
    "    \n",
    "    ## TODO: Iterate over the batches using a window of size seq_length\n",
    "    for n in range(0, arr.shape[1], seq_length):\n",
    "        # The features\n",
    "        x = arr[:,n:n+seq_length]\n",
    "        # The targets, shifted by one\n",
    "        y = np.zeros_like(x)\n",
    "        try:\n",
    "            y[:, :-1], y[:, -1] = x[:, 1:], arr[:, n+seq_length]\n",
    "        except IndexError:\n",
    "            y[:, :-1], y[:, -1] = x[:, 1:], arr[:, 0]                     #usual practice\n",
    "        yield x, y"
   ]
  },
  {
   "cell_type": "markdown",
   "metadata": {},
   "source": [
    "### Test the Implementation\n",
    "\n",
    "Now we'll make some data sets and we can check out what's going on as we batch data. Here, as an example, I'm going to use a batch size of 8 and 50 sequence steps."
   ]
  },
  {
   "cell_type": "code",
   "execution_count": 9,
   "metadata": {},
   "outputs": [],
   "source": [
    "batches = get_batches(encoded, 8, 50)\n",
    "x, y = next(batches)"
   ]
  },
  {
   "cell_type": "code",
   "execution_count": 10,
   "metadata": {},
   "outputs": [
    {
     "name": "stdout",
     "output_type": "stream",
     "text": [
      "x\n",
      " [[45 65 14  2 46 25 55 37 68  8]\n",
      " [31 33 12 37 46 65 14 46 37 14]\n",
      " [25 12 23 37 33 55 37 14 37 48]\n",
      " [31 37 46 65 25 37 66 65 17 25]\n",
      " [37 31 14 76 37 65 25 55 37 46]\n",
      " [66 78 31 31 17 33 12 37 14 12]\n",
      " [37 64 12 12 14 37 65 14 23 37]\n",
      " [41 67 38 33 12 31 19 62 15 37]]\n",
      "\n",
      "y\n",
      " [[65 14  2 46 25 55 37 68  8  8]\n",
      " [33 12 37 46 65 14 46 37 14 46]\n",
      " [12 23 37 33 55 37 14 37 48 33]\n",
      " [37 46 65 25 37 66 65 17 25 48]\n",
      " [31 14 76 37 65 25 55 37 46 25]\n",
      " [78 31 31 17 33 12 37 14 12 23]\n",
      " [64 12 12 14 37 65 14 23 37 31]\n",
      " [67 38 33 12 31 19 62 15 37 56]]\n"
     ]
    }
   ],
   "source": [
    "# printing out the first 10 items in a sequence\n",
    "print('x\\n', x[:10, :10])\n",
    "print('\\ny\\n', y[:10, :10])"
   ]
  },
  {
   "cell_type": "markdown",
   "metadata": {},
   "source": [
    "---\n",
    "## Defining the network with PyTorch\n",
    "\n",
    "Below is where we'll define the network.\n",
    "\n",
    "<img src=\"assets/charRNN.png\" width=500px>\n",
    "\n",
    "Next, we'll use PyTorch to define the architecture of the network. We start by defining the layers and operations we want. Then, define a method for the forward pass."
   ]
  },
  {
   "cell_type": "markdown",
   "metadata": {},
   "source": [
    "### Model Structure\n",
    "\n",
    "In `__init__` the suggested structure is as follows:\n",
    "* Create and store the necessary dictionaries\n",
    "* Define an LSTM layer that takes as params: an input size (the number of characters), a hidden layer size `n_hidden`, a number of layers `n_layers`, a dropout probability `drop_prob`, and a batch_first boolean (True, since we are batching)\n",
    "* Define a dropout layer with `drop_prob`\n",
    "* Define a fully-connected layer with params: input size `n_hidden` and output size (the number of characters)\n",
    "* Finally, initialize the weights"
   ]
  },
  {
   "cell_type": "markdown",
   "metadata": {},
   "source": [
    "---\n",
    "### LSTM Inputs/Outputs\n",
    "\n",
    "We can create a basic [LSTM layer](https://pytorch.org/docs/stable/nn.html#lstm) as follows\n",
    "\n",
    "```python\n",
    "self.lstm = nn.LSTM(input_size, n_hidden, n_layers, \n",
    "                            dropout=drop_prob, batch_first=True)\n",
    "```\n",
    "\n",
    "where `input_size` is the number of characters this cell expects to see as sequential input, and `n_hidden` is the number of units in the hidden layers in the cell. And we can add dropout by adding a dropout parameter with a specified probability; this will automatically add dropout to the inputs or outputs. Finally, in the `forward` function, we can stack up the LSTM cells into layers using `.view`. With this, we pass in a list of cells and it will send the output of one cell into the next cell.\n",
    "\n",
    "We also need to create an initial hidden state of all zeros. This is done like so\n",
    "\n",
    "```python\n",
    "self.init_hidden()\n",
    "```"
   ]
  },
  {
   "cell_type": "code",
   "execution_count": 11,
   "metadata": {},
   "outputs": [
    {
     "name": "stdout",
     "output_type": "stream",
     "text": [
      "Training on GPU!\n"
     ]
    }
   ],
   "source": [
    "# check if GPU is available\n",
    "train_on_gpu = torch.cuda.is_available()\n",
    "if(train_on_gpu):\n",
    "    print('Training on GPU!')\n",
    "else: \n",
    "    print('No GPU available, training on CPU; consider making n_epochs very small.')"
   ]
  },
  {
   "cell_type": "code",
   "execution_count": 12,
   "metadata": {},
   "outputs": [],
   "source": [
    "class CharRNN(nn.Module):\n",
    "    \n",
    "    def __init__(self, tokens, n_hidden=256, n_layers=2,\n",
    "                               drop_prob=0.5, lr=0.001):\n",
    "        super().__init__()\n",
    "        self.drop_prob = drop_prob\n",
    "        self.n_layers = n_layers\n",
    "        self.n_hidden = n_hidden\n",
    "        self.lr = lr\n",
    "        \n",
    "        # creating character dictionaries\n",
    "        self.chars = tokens\n",
    "        self.int2char = dict(enumerate(self.chars))\n",
    "        self.char2int = {ch: ii for ii, ch in self.int2char.items()}\n",
    "        \n",
    "        ## TODO: define the layers of the model\n",
    "        self.lstm = nn.LSTM(len(self.chars), n_hidden, n_layers, \n",
    "                            dropout = drop_prob, batch_first = True)\n",
    "        \n",
    "        self.dropout = nn.Dropout(drop_prob)\n",
    "        \n",
    "        self.fc = nn.Linear(n_hidden, len(self.chars))\n",
    "    \n",
    "    def forward(self, x, hidden):\n",
    "        ''' Forward pass through the network. \n",
    "            These inputs are x, and the hidden/cell state `hidden`. '''\n",
    "                \n",
    "        ## TODO: Get the outputs and the new hidden state from the lstm\n",
    "        r_out, hidden = self.lstm(x, hidden)                   #r_out (dim) = torch.Size([batch_size,\n",
    "                                                               #              seq_length, n_hidden])\n",
    "        out = self.dropout(r_out)                              #out (dim) = torch.Size([batch_size,\n",
    "                                                               #              seq_length, n_hidden])\n",
    "        # return the final output and the hidden state\n",
    "        out = out.contiguous().view(-1, self.n_hidden)         #https://stackoverflow.com/questions/48915810/pytorch-what-does-contiguous-do\n",
    "                                                               #out (dim) = ([batch_size * seq_length,\n",
    "                                                               #              n_hidden])\n",
    "        out = self.fc(out)                                     #out (dim) = ([batch_size * seq_length,\n",
    "                                                               #              len(self.chars)])\n",
    "        return out, hidden\n",
    "    \n",
    "    \n",
    "    def init_hidden(self, batch_size):\n",
    "        ''' Initializes hidden state '''\n",
    "        # Create two new tensors with sizes n_layers x batch_size x n_hidden,\n",
    "        # initialized to zero, for hidden state and cell state of LSTM\n",
    "        weight = next(self.parameters()).data\n",
    "        if (train_on_gpu):                                             \n",
    "            hidden = (weight.new(self.n_layers, batch_size, self.n_hidden).zero_().cuda(),\n",
    "                  weight.new(self.n_layers, batch_size, self.n_hidden).zero_().cuda())\n",
    "        else:\n",
    "            hidden = (weight.new(self.n_layers, batch_size, self.n_hidden).zero_(),\n",
    "                      weight.new(self.n_layers, batch_size, self.n_hidden).zero_())\n",
    "        \n",
    "        return hidden"
   ]
  },
  {
   "cell_type": "markdown",
   "metadata": {},
   "source": [
    "## Time to train\n",
    "\n",
    "The train function gives us the ability to set the number of epochs, the learning rate, and other parameters.\n",
    "\n",
    "Below we're using an Adam optimizer and cross entropy loss since we are looking at character class scores as output. We calculate the loss and perform backpropagation, as usual!\n",
    "\n",
    "A couple of details about training: \n",
    ">* Within the batch loop, we detach the hidden state from its history; this time setting it equal to a new *tuple* variable because an LSTM has a hidden state that is a tuple of the hidden and cell states.\n",
    "* We use [`clip_grad_norm_`](https://pytorch.org/docs/stable/_modules/torch/nn/utils/clip_grad.html) to help prevent exploding gradients."
   ]
  },
  {
   "cell_type": "code",
   "execution_count": 13,
   "metadata": {},
   "outputs": [],
   "source": [
    "def train(net, data, epochs=10, batch_size=10, seq_length=50, lr=0.001, clip=5, val_frac=0.1, print_every=10):\n",
    "    ''' Training a network \n",
    "    \n",
    "        Arguments\n",
    "        ---------\n",
    "        \n",
    "        net: CharRNN network\n",
    "        data: text data to train the network\n",
    "        epochs: Number of epochs to train\n",
    "        batch_size: Number of mini-sequences per mini-batch, aka batch size\n",
    "        seq_length: Number of character steps per mini-batch\n",
    "        lr: learning rate\n",
    "        clip: gradient clipping\n",
    "        val_frac: Fraction of data to hold out for validation\n",
    "        print_every: Number of steps for printing training and validation loss\n",
    "    \n",
    "    '''\n",
    "    net.train()\n",
    "    \n",
    "    opt = torch.optim.Adam(net.parameters(), lr=lr)\n",
    "    criterion = nn.CrossEntropyLoss()\n",
    "    \n",
    "    # create training and validation data\n",
    "    val_idx = int(len(data)*(1-val_frac))\n",
    "    data, val_data = data[:val_idx], data[val_idx:]\n",
    "    \n",
    "    if(train_on_gpu):\n",
    "        net.cuda()\n",
    "    \n",
    "    counter = 0\n",
    "    n_chars = len(net.chars)\n",
    "    for e in range(epochs):\n",
    "        # initialize hidden state\n",
    "        h = net.init_hidden(batch_size)\n",
    "        \n",
    "        for x, y in get_batches(data, batch_size, seq_length):\n",
    "            counter += 1\n",
    "            \n",
    "            # One-hot encode our data and make them Torch tensors\n",
    "            x = one_hot_encode(x, n_chars)\n",
    "            inputs, targets = torch.from_numpy(x), torch.from_numpy(y)\n",
    "            \n",
    "            if(train_on_gpu):\n",
    "                inputs, targets = inputs.cuda(), targets.cuda()\n",
    "\n",
    "            # Creating new variables for the hidden state, otherwise\n",
    "            # we'd backprop through the entire training history\n",
    "            h = tuple([each.data for each in h])\n",
    "\n",
    "            # zero accumulated gradients\n",
    "            net.zero_grad()\n",
    "            \n",
    "            # get the output from the model\n",
    "            output, h = net(inputs, h)\n",
    "            \n",
    "            # calculate the loss and perform backprop\n",
    "            loss = criterion(output, targets.view(batch_size*seq_length).long())\n",
    "            loss.backward()\n",
    "            # `clip_grad_norm` helps prevent the exploding gradient problem in RNNs / LSTMs.\n",
    "            nn.utils.clip_grad_norm_(net.parameters(), clip)\n",
    "            opt.step()\n",
    "            \n",
    "            # loss stats\n",
    "            if counter % print_every == 0:\n",
    "                # Get validation loss\n",
    "                val_h = net.init_hidden(batch_size)\n",
    "                val_losses = []\n",
    "                net.eval()\n",
    "                \n",
    "                for x, y in get_batches(val_data, batch_size, seq_length):\n",
    "                    # One-hot encode our data and make them Torch tensors\n",
    "                    x = one_hot_encode(x, n_chars)\n",
    "                    x, y = torch.from_numpy(x), torch.from_numpy(y)\n",
    "                    \n",
    "                    # Creating new variables for the hidden state, otherwise\n",
    "                    # we'd backprop through the entire training history\n",
    "                    val_h = tuple([each.data for each in val_h])\n",
    "                    \n",
    "                    inputs, targets = x, y\n",
    "                    if(train_on_gpu):\n",
    "                        inputs, targets = inputs.cuda(), targets.cuda()\n",
    "\n",
    "                    output, val_h = net(inputs, val_h)\n",
    "                    \n",
    "                    val_loss = criterion(output, targets.view(batch_size*seq_length).long())\n",
    "                \n",
    "                    val_losses.append(val_loss.item())\n",
    "                \n",
    "                net.train() # reset to train mode after iterationg through validation data\n",
    "                \n",
    "                print(\"Epoch: {}/{}...\".format(e+1, epochs),\n",
    "                      \"Step: {}...\".format(counter),\n",
    "                      \"Loss: {:.4f}...\".format(loss.item()),\n",
    "                      \"Val Loss: {:.4f}\".format(np.mean(val_losses)))"
   ]
  },
  {
   "cell_type": "markdown",
   "metadata": {},
   "source": [
    "## Instantiating the model\n",
    "\n",
    "Now we can actually train the network. First we'll create the network itself, with some given hyperparameters. Then, define the mini-batches sizes, and start training!"
   ]
  },
  {
   "cell_type": "code",
   "execution_count": 14,
   "metadata": {},
   "outputs": [
    {
     "name": "stdout",
     "output_type": "stream",
     "text": [
      "CharRNN(\n",
      "  (lstm): LSTM(83, 512, num_layers=2, batch_first=True, dropout=0.5)\n",
      "  (dropout): Dropout(p=0.5, inplace=False)\n",
      "  (fc): Linear(in_features=512, out_features=83, bias=True)\n",
      ")\n"
     ]
    }
   ],
   "source": [
    "## TODO: set your model hyperparameters\n",
    "# define and print the net\n",
    "n_hidden= 512\n",
    "n_layers= 2\n",
    "\n",
    "net = CharRNN(chars, n_hidden, n_layers)\n",
    "print(net)"
   ]
  },
  {
   "cell_type": "markdown",
   "metadata": {},
   "source": [
    "### Setting the training hyperparameters!"
   ]
  },
  {
   "cell_type": "code",
   "execution_count": 15,
   "metadata": {
    "scrolled": true
   },
   "outputs": [
    {
     "name": "stdout",
     "output_type": "stream",
     "text": [
      "Epoch: 1/20... Step: 10... Loss: 3.2668... Val Loss: 3.1986\n",
      "Epoch: 1/20... Step: 20... Loss: 3.1606... Val Loss: 3.1343\n",
      "Epoch: 1/20... Step: 30... Loss: 3.1477... Val Loss: 3.1231\n",
      "Epoch: 1/20... Step: 40... Loss: 3.1159... Val Loss: 3.1202\n",
      "Epoch: 1/20... Step: 50... Loss: 3.1411... Val Loss: 3.1177\n",
      "Epoch: 1/20... Step: 60... Loss: 3.1163... Val Loss: 3.1159\n",
      "Epoch: 1/20... Step: 70... Loss: 3.1066... Val Loss: 3.1135\n",
      "Epoch: 1/20... Step: 80... Loss: 3.1179... Val Loss: 3.1079\n",
      "Epoch: 1/20... Step: 90... Loss: 3.1123... Val Loss: 3.0947\n",
      "Epoch: 1/20... Step: 100... Loss: 3.0733... Val Loss: 3.0605\n",
      "Epoch: 1/20... Step: 110... Loss: 3.0160... Val Loss: 2.9852\n",
      "Epoch: 1/20... Step: 120... Loss: 2.8893... Val Loss: 2.9616\n",
      "Epoch: 1/20... Step: 130... Loss: 2.8343... Val Loss: 2.8005\n",
      "Epoch: 2/20... Step: 140... Loss: 2.7388... Val Loss: 2.6856\n",
      "Epoch: 2/20... Step: 150... Loss: 2.6335... Val Loss: 2.5852\n",
      "Epoch: 2/20... Step: 160... Loss: 2.5628... Val Loss: 2.5179\n",
      "Epoch: 2/20... Step: 170... Loss: 2.4890... Val Loss: 2.4654\n",
      "Epoch: 2/20... Step: 180... Loss: 2.4581... Val Loss: 2.4274\n",
      "Epoch: 2/20... Step: 190... Loss: 2.4181... Val Loss: 2.4024\n",
      "Epoch: 2/20... Step: 200... Loss: 2.3977... Val Loss: 2.3658\n",
      "Epoch: 2/20... Step: 210... Loss: 2.3657... Val Loss: 2.3371\n",
      "Epoch: 2/20... Step: 220... Loss: 2.3255... Val Loss: 2.3088\n",
      "Epoch: 2/20... Step: 230... Loss: 2.3183... Val Loss: 2.2818\n",
      "Epoch: 2/20... Step: 240... Loss: 2.2857... Val Loss: 2.2612\n",
      "Epoch: 2/20... Step: 250... Loss: 2.2383... Val Loss: 2.2313\n",
      "Epoch: 2/20... Step: 260... Loss: 2.2105... Val Loss: 2.2068\n",
      "Epoch: 2/20... Step: 270... Loss: 2.2104... Val Loss: 2.1865\n",
      "Epoch: 3/20... Step: 280... Loss: 2.2080... Val Loss: 2.1626\n",
      "Epoch: 3/20... Step: 290... Loss: 2.1727... Val Loss: 2.1376\n",
      "Epoch: 3/20... Step: 300... Loss: 2.1513... Val Loss: 2.1165\n",
      "Epoch: 3/20... Step: 310... Loss: 2.1246... Val Loss: 2.0969\n",
      "Epoch: 3/20... Step: 320... Loss: 2.0973... Val Loss: 2.0758\n",
      "Epoch: 3/20... Step: 330... Loss: 2.0689... Val Loss: 2.0678\n",
      "Epoch: 3/20... Step: 340... Loss: 2.0880... Val Loss: 2.0501\n",
      "Epoch: 3/20... Step: 350... Loss: 2.0594... Val Loss: 2.0289\n",
      "Epoch: 3/20... Step: 360... Loss: 1.9956... Val Loss: 2.0084\n",
      "Epoch: 3/20... Step: 370... Loss: 2.0236... Val Loss: 1.9906\n",
      "Epoch: 3/20... Step: 380... Loss: 1.9967... Val Loss: 1.9754\n",
      "Epoch: 3/20... Step: 390... Loss: 1.9691... Val Loss: 1.9632\n",
      "Epoch: 3/20... Step: 400... Loss: 1.9496... Val Loss: 1.9479\n",
      "Epoch: 3/20... Step: 410... Loss: 1.9560... Val Loss: 1.9316\n",
      "Epoch: 4/20... Step: 420... Loss: 1.9448... Val Loss: 1.9137\n",
      "Epoch: 4/20... Step: 430... Loss: 1.9472... Val Loss: 1.9044\n",
      "Epoch: 4/20... Step: 440... Loss: 1.9210... Val Loss: 1.8925\n",
      "Epoch: 4/20... Step: 450... Loss: 1.8634... Val Loss: 1.8772\n",
      "Epoch: 4/20... Step: 460... Loss: 1.8529... Val Loss: 1.8629\n",
      "Epoch: 4/20... Step: 470... Loss: 1.8723... Val Loss: 1.8581\n",
      "Epoch: 4/20... Step: 480... Loss: 1.8691... Val Loss: 1.8455\n",
      "Epoch: 4/20... Step: 490... Loss: 1.8707... Val Loss: 1.8334\n",
      "Epoch: 4/20... Step: 500... Loss: 1.8621... Val Loss: 1.8200\n",
      "Epoch: 4/20... Step: 510... Loss: 1.8330... Val Loss: 1.8105\n",
      "Epoch: 4/20... Step: 520... Loss: 1.8479... Val Loss: 1.7985\n",
      "Epoch: 4/20... Step: 530... Loss: 1.8048... Val Loss: 1.7935\n",
      "Epoch: 4/20... Step: 540... Loss: 1.7802... Val Loss: 1.7779\n",
      "Epoch: 4/20... Step: 550... Loss: 1.8154... Val Loss: 1.7660\n",
      "Epoch: 5/20... Step: 560... Loss: 1.7831... Val Loss: 1.7586\n",
      "Epoch: 5/20... Step: 570... Loss: 1.7730... Val Loss: 1.7479\n",
      "Epoch: 5/20... Step: 580... Loss: 1.7423... Val Loss: 1.7392\n",
      "Epoch: 5/20... Step: 590... Loss: 1.7450... Val Loss: 1.7269\n",
      "Epoch: 5/20... Step: 600... Loss: 1.7301... Val Loss: 1.7190\n",
      "Epoch: 5/20... Step: 610... Loss: 1.7227... Val Loss: 1.7142\n",
      "Epoch: 5/20... Step: 620... Loss: 1.7283... Val Loss: 1.7047\n",
      "Epoch: 5/20... Step: 630... Loss: 1.7420... Val Loss: 1.6978\n",
      "Epoch: 5/20... Step: 640... Loss: 1.7124... Val Loss: 1.6920\n",
      "Epoch: 5/20... Step: 650... Loss: 1.7011... Val Loss: 1.6814\n",
      "Epoch: 5/20... Step: 660... Loss: 1.6706... Val Loss: 1.6737\n",
      "Epoch: 5/20... Step: 670... Loss: 1.7021... Val Loss: 1.6720\n",
      "Epoch: 5/20... Step: 680... Loss: 1.6935... Val Loss: 1.6643\n",
      "Epoch: 5/20... Step: 690... Loss: 1.6770... Val Loss: 1.6591\n",
      "Epoch: 6/20... Step: 700... Loss: 1.6650... Val Loss: 1.6529\n",
      "Epoch: 6/20... Step: 710... Loss: 1.6590... Val Loss: 1.6425\n",
      "Epoch: 6/20... Step: 720... Loss: 1.6519... Val Loss: 1.6383\n",
      "Epoch: 6/20... Step: 730... Loss: 1.6626... Val Loss: 1.6310\n",
      "Epoch: 6/20... Step: 740... Loss: 1.6273... Val Loss: 1.6290\n",
      "Epoch: 6/20... Step: 750... Loss: 1.6141... Val Loss: 1.6204\n",
      "Epoch: 6/20... Step: 760... Loss: 1.6494... Val Loss: 1.6162\n",
      "Epoch: 6/20... Step: 770... Loss: 1.6322... Val Loss: 1.6138\n",
      "Epoch: 6/20... Step: 780... Loss: 1.6148... Val Loss: 1.6090\n",
      "Epoch: 6/20... Step: 790... Loss: 1.6031... Val Loss: 1.5991\n",
      "Epoch: 6/20... Step: 800... Loss: 1.6107... Val Loss: 1.5987\n",
      "Epoch: 6/20... Step: 810... Loss: 1.5981... Val Loss: 1.5929\n",
      "Epoch: 6/20... Step: 820... Loss: 1.5677... Val Loss: 1.5836\n",
      "Epoch: 6/20... Step: 830... Loss: 1.6130... Val Loss: 1.5828\n",
      "Epoch: 7/20... Step: 840... Loss: 1.5708... Val Loss: 1.5804\n",
      "Epoch: 7/20... Step: 850... Loss: 1.5750... Val Loss: 1.5696\n",
      "Epoch: 7/20... Step: 860... Loss: 1.5707... Val Loss: 1.5675\n",
      "Epoch: 7/20... Step: 870... Loss: 1.5857... Val Loss: 1.5626\n",
      "Epoch: 7/20... Step: 880... Loss: 1.5731... Val Loss: 1.5601\n",
      "Epoch: 7/20... Step: 890... Loss: 1.5782... Val Loss: 1.5557\n",
      "Epoch: 7/20... Step: 900... Loss: 1.5470... Val Loss: 1.5564\n",
      "Epoch: 7/20... Step: 910... Loss: 1.5273... Val Loss: 1.5521\n",
      "Epoch: 7/20... Step: 920... Loss: 1.5535... Val Loss: 1.5495\n",
      "Epoch: 7/20... Step: 930... Loss: 1.5349... Val Loss: 1.5427\n",
      "Epoch: 7/20... Step: 940... Loss: 1.5365... Val Loss: 1.5363\n",
      "Epoch: 7/20... Step: 950... Loss: 1.5521... Val Loss: 1.5324\n",
      "Epoch: 7/20... Step: 960... Loss: 1.5365... Val Loss: 1.5262\n",
      "Epoch: 7/20... Step: 970... Loss: 1.5594... Val Loss: 1.5267\n",
      "Epoch: 8/20... Step: 980... Loss: 1.5217... Val Loss: 1.5263\n",
      "Epoch: 8/20... Step: 990... Loss: 1.5223... Val Loss: 1.5190\n",
      "Epoch: 8/20... Step: 1000... Loss: 1.5157... Val Loss: 1.5165\n",
      "Epoch: 8/20... Step: 1010... Loss: 1.5586... Val Loss: 1.5153\n",
      "Epoch: 8/20... Step: 1020... Loss: 1.5247... Val Loss: 1.5107\n",
      "Epoch: 8/20... Step: 1030... Loss: 1.5039... Val Loss: 1.5070\n",
      "Epoch: 8/20... Step: 1040... Loss: 1.5089... Val Loss: 1.5054\n",
      "Epoch: 8/20... Step: 1050... Loss: 1.4927... Val Loss: 1.5044\n",
      "Epoch: 8/20... Step: 1060... Loss: 1.4895... Val Loss: 1.5063\n",
      "Epoch: 8/20... Step: 1070... Loss: 1.5031... Val Loss: 1.4963\n",
      "Epoch: 8/20... Step: 1080... Loss: 1.5014... Val Loss: 1.4920\n",
      "Epoch: 8/20... Step: 1090... Loss: 1.4830... Val Loss: 1.4883\n",
      "Epoch: 8/20... Step: 1100... Loss: 1.4683... Val Loss: 1.4875\n",
      "Epoch: 8/20... Step: 1110... Loss: 1.4798... Val Loss: 1.4828\n",
      "Epoch: 9/20... Step: 1120... Loss: 1.4899... Val Loss: 1.4786\n",
      "Epoch: 9/20... Step: 1130... Loss: 1.4846... Val Loss: 1.4775\n",
      "Epoch: 9/20... Step: 1140... Loss: 1.4893... Val Loss: 1.4751\n",
      "Epoch: 9/20... Step: 1150... Loss: 1.4965... Val Loss: 1.4713\n",
      "Epoch: 9/20... Step: 1160... Loss: 1.4662... Val Loss: 1.4691\n",
      "Epoch: 9/20... Step: 1170... Loss: 1.4648... Val Loss: 1.4676\n",
      "Epoch: 9/20... Step: 1180... Loss: 1.4537... Val Loss: 1.4666\n",
      "Epoch: 9/20... Step: 1190... Loss: 1.4998... Val Loss: 1.4677\n",
      "Epoch: 9/20... Step: 1200... Loss: 1.4475... Val Loss: 1.4592\n",
      "Epoch: 9/20... Step: 1210... Loss: 1.4542... Val Loss: 1.4551\n",
      "Epoch: 9/20... Step: 1220... Loss: 1.4580... Val Loss: 1.4551\n",
      "Epoch: 9/20... Step: 1230... Loss: 1.4321... Val Loss: 1.4529\n",
      "Epoch: 9/20... Step: 1240... Loss: 1.4377... Val Loss: 1.4534\n",
      "Epoch: 9/20... Step: 1250... Loss: 1.4479... Val Loss: 1.4488\n",
      "Epoch: 10/20... Step: 1260... Loss: 1.4546... Val Loss: 1.4440\n",
      "Epoch: 10/20... Step: 1270... Loss: 1.4409... Val Loss: 1.4439\n",
      "Epoch: 10/20... Step: 1280... Loss: 1.4546... Val Loss: 1.4396\n",
      "Epoch: 10/20... Step: 1290... Loss: 1.4474... Val Loss: 1.4380\n",
      "Epoch: 10/20... Step: 1300... Loss: 1.4344... Val Loss: 1.4366\n",
      "Epoch: 10/20... Step: 1310... Loss: 1.4363... Val Loss: 1.4377\n",
      "Epoch: 10/20... Step: 1320... Loss: 1.4046... Val Loss: 1.4362\n",
      "Epoch: 10/20... Step: 1330... Loss: 1.4110... Val Loss: 1.4347\n",
      "Epoch: 10/20... Step: 1340... Loss: 1.3932... Val Loss: 1.4306\n"
     ]
    },
    {
     "name": "stdout",
     "output_type": "stream",
     "text": [
      "Epoch: 10/20... Step: 1350... Loss: 1.4005... Val Loss: 1.4283\n",
      "Epoch: 10/20... Step: 1360... Loss: 1.4023... Val Loss: 1.4302\n",
      "Epoch: 10/20... Step: 1370... Loss: 1.3873... Val Loss: 1.4310\n",
      "Epoch: 10/20... Step: 1380... Loss: 1.4353... Val Loss: 1.4254\n",
      "Epoch: 10/20... Step: 1390... Loss: 1.4294... Val Loss: 1.4193\n",
      "Epoch: 11/20... Step: 1400... Loss: 1.4447... Val Loss: 1.4191\n",
      "Epoch: 11/20... Step: 1410... Loss: 1.4569... Val Loss: 1.4181\n",
      "Epoch: 11/20... Step: 1420... Loss: 1.4401... Val Loss: 1.4152\n",
      "Epoch: 11/20... Step: 1430... Loss: 1.4018... Val Loss: 1.4174\n",
      "Epoch: 11/20... Step: 1440... Loss: 1.4310... Val Loss: 1.4152\n",
      "Epoch: 11/20... Step: 1450... Loss: 1.3545... Val Loss: 1.4102\n",
      "Epoch: 11/20... Step: 1460... Loss: 1.3904... Val Loss: 1.4099\n",
      "Epoch: 11/20... Step: 1470... Loss: 1.3758... Val Loss: 1.4058\n",
      "Epoch: 11/20... Step: 1480... Loss: 1.3964... Val Loss: 1.4045\n",
      "Epoch: 11/20... Step: 1490... Loss: 1.3822... Val Loss: 1.4048\n",
      "Epoch: 11/20... Step: 1500... Loss: 1.3719... Val Loss: 1.4062\n",
      "Epoch: 11/20... Step: 1510... Loss: 1.3476... Val Loss: 1.4023\n",
      "Epoch: 11/20... Step: 1520... Loss: 1.3941... Val Loss: 1.4019\n",
      "Epoch: 12/20... Step: 1530... Loss: 1.4411... Val Loss: 1.4013\n",
      "Epoch: 12/20... Step: 1540... Loss: 1.3967... Val Loss: 1.3958\n",
      "Epoch: 12/20... Step: 1550... Loss: 1.4034... Val Loss: 1.3968\n",
      "Epoch: 12/20... Step: 1560... Loss: 1.4224... Val Loss: 1.3925\n",
      "Epoch: 12/20... Step: 1570... Loss: 1.3676... Val Loss: 1.3960\n",
      "Epoch: 12/20... Step: 1580... Loss: 1.3439... Val Loss: 1.3948\n",
      "Epoch: 12/20... Step: 1590... Loss: 1.3368... Val Loss: 1.3905\n",
      "Epoch: 12/20... Step: 1600... Loss: 1.3547... Val Loss: 1.3911\n",
      "Epoch: 12/20... Step: 1610... Loss: 1.3487... Val Loss: 1.3898\n",
      "Epoch: 12/20... Step: 1620... Loss: 1.3492... Val Loss: 1.3839\n",
      "Epoch: 12/20... Step: 1630... Loss: 1.3690... Val Loss: 1.3839\n",
      "Epoch: 12/20... Step: 1640... Loss: 1.3531... Val Loss: 1.3880\n",
      "Epoch: 12/20... Step: 1650... Loss: 1.3341... Val Loss: 1.3877\n",
      "Epoch: 12/20... Step: 1660... Loss: 1.3893... Val Loss: 1.3844\n",
      "Epoch: 13/20... Step: 1670... Loss: 1.3564... Val Loss: 1.3842\n",
      "Epoch: 13/20... Step: 1680... Loss: 1.3684... Val Loss: 1.3790\n",
      "Epoch: 13/20... Step: 1690... Loss: 1.3446... Val Loss: 1.3786\n",
      "Epoch: 13/20... Step: 1700... Loss: 1.3461... Val Loss: 1.3787\n",
      "Epoch: 13/20... Step: 1710... Loss: 1.3200... Val Loss: 1.3775\n",
      "Epoch: 13/20... Step: 1720... Loss: 1.3369... Val Loss: 1.3817\n",
      "Epoch: 13/20... Step: 1730... Loss: 1.3750... Val Loss: 1.3743\n",
      "Epoch: 13/20... Step: 1740... Loss: 1.3395... Val Loss: 1.3750\n",
      "Epoch: 13/20... Step: 1750... Loss: 1.3028... Val Loss: 1.3729\n",
      "Epoch: 13/20... Step: 1760... Loss: 1.3315... Val Loss: 1.3695\n",
      "Epoch: 13/20... Step: 1770... Loss: 1.3511... Val Loss: 1.3707\n",
      "Epoch: 13/20... Step: 1780... Loss: 1.3251... Val Loss: 1.3745\n",
      "Epoch: 13/20... Step: 1790... Loss: 1.3237... Val Loss: 1.3731\n",
      "Epoch: 13/20... Step: 1800... Loss: 1.3442... Val Loss: 1.3700\n",
      "Epoch: 14/20... Step: 1810... Loss: 1.3407... Val Loss: 1.3703\n",
      "Epoch: 14/20... Step: 1820... Loss: 1.3321... Val Loss: 1.3635\n",
      "Epoch: 14/20... Step: 1830... Loss: 1.3538... Val Loss: 1.3671\n",
      "Epoch: 14/20... Step: 1840... Loss: 1.3021... Val Loss: 1.3636\n",
      "Epoch: 14/20... Step: 1850... Loss: 1.2712... Val Loss: 1.3629\n",
      "Epoch: 14/20... Step: 1860... Loss: 1.3350... Val Loss: 1.3620\n",
      "Epoch: 14/20... Step: 1870... Loss: 1.3409... Val Loss: 1.3577\n",
      "Epoch: 14/20... Step: 1880... Loss: 1.3330... Val Loss: 1.3632\n",
      "Epoch: 14/20... Step: 1890... Loss: 1.3422... Val Loss: 1.3640\n",
      "Epoch: 14/20... Step: 1900... Loss: 1.3241... Val Loss: 1.3603\n",
      "Epoch: 14/20... Step: 1910... Loss: 1.3260... Val Loss: 1.3612\n",
      "Epoch: 14/20... Step: 1920... Loss: 1.3226... Val Loss: 1.3600\n",
      "Epoch: 14/20... Step: 1930... Loss: 1.2831... Val Loss: 1.3598\n",
      "Epoch: 14/20... Step: 1940... Loss: 1.3487... Val Loss: 1.3555\n",
      "Epoch: 15/20... Step: 1950... Loss: 1.3114... Val Loss: 1.3535\n",
      "Epoch: 15/20... Step: 1960... Loss: 1.3288... Val Loss: 1.3494\n",
      "Epoch: 15/20... Step: 1970... Loss: 1.3090... Val Loss: 1.3524\n",
      "Epoch: 15/20... Step: 1980... Loss: 1.3016... Val Loss: 1.3534\n",
      "Epoch: 15/20... Step: 1990... Loss: 1.2938... Val Loss: 1.3505\n",
      "Epoch: 15/20... Step: 2000... Loss: 1.2864... Val Loss: 1.3487\n",
      "Epoch: 15/20... Step: 2010... Loss: 1.3009... Val Loss: 1.3418\n",
      "Epoch: 15/20... Step: 2020... Loss: 1.3237... Val Loss: 1.3480\n",
      "Epoch: 15/20... Step: 2030... Loss: 1.2906... Val Loss: 1.3439\n",
      "Epoch: 15/20... Step: 2040... Loss: 1.3158... Val Loss: 1.3428\n",
      "Epoch: 15/20... Step: 2050... Loss: 1.2920... Val Loss: 1.3422\n",
      "Epoch: 15/20... Step: 2060... Loss: 1.2957... Val Loss: 1.3410\n",
      "Epoch: 15/20... Step: 2070... Loss: 1.3083... Val Loss: 1.3435\n",
      "Epoch: 15/20... Step: 2080... Loss: 1.2906... Val Loss: 1.3449\n",
      "Epoch: 16/20... Step: 2090... Loss: 1.3087... Val Loss: 1.3404\n",
      "Epoch: 16/20... Step: 2100... Loss: 1.2952... Val Loss: 1.3360\n",
      "Epoch: 16/20... Step: 2110... Loss: 1.2851... Val Loss: 1.3398\n",
      "Epoch: 16/20... Step: 2120... Loss: 1.3052... Val Loss: 1.3385\n",
      "Epoch: 16/20... Step: 2130... Loss: 1.2755... Val Loss: 1.3351\n",
      "Epoch: 16/20... Step: 2140... Loss: 1.2800... Val Loss: 1.3345\n",
      "Epoch: 16/20... Step: 2150... Loss: 1.3105... Val Loss: 1.3326\n",
      "Epoch: 16/20... Step: 2160... Loss: 1.2809... Val Loss: 1.3343\n",
      "Epoch: 16/20... Step: 2170... Loss: 1.2856... Val Loss: 1.3350\n",
      "Epoch: 16/20... Step: 2180... Loss: 1.2803... Val Loss: 1.3276\n",
      "Epoch: 16/20... Step: 2190... Loss: 1.3027... Val Loss: 1.3307\n",
      "Epoch: 16/20... Step: 2200... Loss: 1.2797... Val Loss: 1.3346\n",
      "Epoch: 16/20... Step: 2210... Loss: 1.2349... Val Loss: 1.3357\n",
      "Epoch: 16/20... Step: 2220... Loss: 1.2835... Val Loss: 1.3334\n",
      "Epoch: 17/20... Step: 2230... Loss: 1.2673... Val Loss: 1.3327\n",
      "Epoch: 17/20... Step: 2240... Loss: 1.2693... Val Loss: 1.3302\n",
      "Epoch: 17/20... Step: 2250... Loss: 1.2555... Val Loss: 1.3327\n",
      "Epoch: 17/20... Step: 2260... Loss: 1.2706... Val Loss: 1.3308\n",
      "Epoch: 17/20... Step: 2270... Loss: 1.2806... Val Loss: 1.3301\n",
      "Epoch: 17/20... Step: 2280... Loss: 1.2814... Val Loss: 1.3285\n",
      "Epoch: 17/20... Step: 2290... Loss: 1.2845... Val Loss: 1.3233\n",
      "Epoch: 17/20... Step: 2300... Loss: 1.2387... Val Loss: 1.3283\n",
      "Epoch: 17/20... Step: 2310... Loss: 1.2682... Val Loss: 1.3295\n",
      "Epoch: 17/20... Step: 2320... Loss: 1.2517... Val Loss: 1.3234\n",
      "Epoch: 17/20... Step: 2330... Loss: 1.2611... Val Loss: 1.3227\n",
      "Epoch: 17/20... Step: 2340... Loss: 1.2696... Val Loss: 1.3249\n",
      "Epoch: 17/20... Step: 2350... Loss: 1.2800... Val Loss: 1.3235\n",
      "Epoch: 17/20... Step: 2360... Loss: 1.2767... Val Loss: 1.3236\n",
      "Epoch: 18/20... Step: 2370... Loss: 1.2505... Val Loss: 1.3192\n",
      "Epoch: 18/20... Step: 2380... Loss: 1.2590... Val Loss: 1.3229\n",
      "Epoch: 18/20... Step: 2390... Loss: 1.2650... Val Loss: 1.3251\n",
      "Epoch: 18/20... Step: 2400... Loss: 1.2823... Val Loss: 1.3219\n",
      "Epoch: 18/20... Step: 2410... Loss: 1.2713... Val Loss: 1.3204\n",
      "Epoch: 18/20... Step: 2420... Loss: 1.2635... Val Loss: 1.3170\n",
      "Epoch: 18/20... Step: 2430... Loss: 1.2693... Val Loss: 1.3156\n",
      "Epoch: 18/20... Step: 2440... Loss: 1.2521... Val Loss: 1.3176\n",
      "Epoch: 18/20... Step: 2450... Loss: 1.2487... Val Loss: 1.3180\n",
      "Epoch: 18/20... Step: 2460... Loss: 1.2742... Val Loss: 1.3166\n",
      "Epoch: 18/20... Step: 2470... Loss: 1.2610... Val Loss: 1.3170\n",
      "Epoch: 18/20... Step: 2480... Loss: 1.2478... Val Loss: 1.3140\n",
      "Epoch: 18/20... Step: 2490... Loss: 1.2385... Val Loss: 1.3185\n",
      "Epoch: 18/20... Step: 2500... Loss: 1.2419... Val Loss: 1.3151\n",
      "Epoch: 19/20... Step: 2510... Loss: 1.2492... Val Loss: 1.3137\n",
      "Epoch: 19/20... Step: 2520... Loss: 1.2553... Val Loss: 1.3166\n",
      "Epoch: 19/20... Step: 2530... Loss: 1.2662... Val Loss: 1.3146\n",
      "Epoch: 19/20... Step: 2540... Loss: 1.2799... Val Loss: 1.3099\n",
      "Epoch: 19/20... Step: 2550... Loss: 1.2410... Val Loss: 1.3134\n",
      "Epoch: 19/20... Step: 2560... Loss: 1.2612... Val Loss: 1.3086\n",
      "Epoch: 19/20... Step: 2570... Loss: 1.2381... Val Loss: 1.3105\n",
      "Epoch: 19/20... Step: 2580... Loss: 1.2770... Val Loss: 1.3115\n",
      "Epoch: 19/20... Step: 2590... Loss: 1.2295... Val Loss: 1.3110\n",
      "Epoch: 19/20... Step: 2600... Loss: 1.2275... Val Loss: 1.3083\n",
      "Epoch: 19/20... Step: 2610... Loss: 1.2436... Val Loss: 1.3092\n",
      "Epoch: 19/20... Step: 2620... Loss: 1.2218... Val Loss: 1.3079\n",
      "Epoch: 19/20... Step: 2630... Loss: 1.2379... Val Loss: 1.3098\n",
      "Epoch: 19/20... Step: 2640... Loss: 1.2485... Val Loss: 1.3059\n",
      "Epoch: 20/20... Step: 2650... Loss: 1.2498... Val Loss: 1.3062\n"
     ]
    },
    {
     "name": "stdout",
     "output_type": "stream",
     "text": [
      "Epoch: 20/20... Step: 2660... Loss: 1.2493... Val Loss: 1.3121\n",
      "Epoch: 20/20... Step: 2670... Loss: 1.2595... Val Loss: 1.3101\n",
      "Epoch: 20/20... Step: 2680... Loss: 1.2499... Val Loss: 1.3039\n",
      "Epoch: 20/20... Step: 2690... Loss: 1.2424... Val Loss: 1.3076\n",
      "Epoch: 20/20... Step: 2700... Loss: 1.2420... Val Loss: 1.3037\n",
      "Epoch: 20/20... Step: 2710... Loss: 1.2117... Val Loss: 1.3011\n",
      "Epoch: 20/20... Step: 2720... Loss: 1.2244... Val Loss: 1.3019\n",
      "Epoch: 20/20... Step: 2730... Loss: 1.2124... Val Loss: 1.3019\n",
      "Epoch: 20/20... Step: 2740... Loss: 1.2040... Val Loss: 1.3030\n",
      "Epoch: 20/20... Step: 2750... Loss: 1.2202... Val Loss: 1.3031\n",
      "Epoch: 20/20... Step: 2760... Loss: 1.2120... Val Loss: 1.3052\n",
      "Epoch: 20/20... Step: 2770... Loss: 1.2565... Val Loss: 1.3052\n",
      "Epoch: 20/20... Step: 2780... Loss: 1.2708... Val Loss: 1.3001\n"
     ]
    }
   ],
   "source": [
    "batch_size = 128\n",
    "seq_length = 100\n",
    "n_epochs =  20\n",
    "\n",
    "# train the model\n",
    "train(net, encoded, epochs=n_epochs, batch_size=batch_size, seq_length=seq_length, lr=0.001, print_every=10)"
   ]
  },
  {
   "cell_type": "markdown",
   "metadata": {},
   "source": [
    "## Getting the best model\n",
    "\n",
    "To set the hyperparameters to get the best performance, we need to watch the training and validation losses. If the training loss is much lower than validation loss, we're overfitting. Increasing regularization (more dropout) or using a smaller network can help. If the training and validation losses are close, we're underfitting so we can increase the size of the network."
   ]
  },
  {
   "cell_type": "markdown",
   "metadata": {},
   "source": [
    "## Hyperparameters\n",
    "\n",
    "Here are the hyperparameters for the network.\n",
    "\n",
    "In defining the model:\n",
    "* `n_hidden` - The number of units in the hidden layers.\n",
    "* `n_layers` - Number of hidden LSTM layers to use.\n",
    "\n",
    "We assume that dropout probability and learning rate will be kept at the default, in this example.\n",
    "\n",
    "And in training:\n",
    "* `batch_size` - Number of sequences running through the network in one pass.\n",
    "* `seq_length` - Number of characters in the sequence the network is trained on. Larger is better typically, the network will learn more long range dependencies. But it takes longer to train. 100 is typically a good number here.\n",
    "* `lr` - Learning rate for training\n",
    "\n",
    "Here's some good advice from Andrej Karpathy on training the network. I'm going to copy it in here for the benefit of it, but also link to [where it originally came from](https://github.com/karpathy/char-rnn#tips-and-tricks).\n",
    "\n",
    "> ## Tips and Tricks\n",
    "\n",
    ">### Monitoring Validation Loss vs. Training Loss\n",
    ">If you're somewhat new to Machine Learning or Neural Networks it can take a bit of expertise to get good models. The most important quantity to keep track of is the difference between your training loss (printed during training) and the validation loss (printed once in a while when the RNN is run on the validation data (by default every 1000 iterations)). In particular:\n",
    "\n",
    "> - If your training loss is much lower than validation loss then this means the network might be **overfitting**. Solutions to this are to decrease your network size, or to increase dropout. For example you could try dropout of 0.5 and so on.\n",
    "> - If your training/validation loss are about equal then your model is **underfitting**. Increase the size of your model (either number of layers or the raw number of neurons per layer)\n",
    "\n",
    "> ### Approximate number of parameters\n",
    "\n",
    "> The two most important parameters that control the model are `n_hidden` and `n_layers`. I would advise that you always use `n_layers` of either 2/3. The `n_hidden` can be adjusted based on how much data you have. The two important quantities to keep track of here are:\n",
    "\n",
    "> - The number of parameters in your model. This is printed when you start training.\n",
    "> - The size of your dataset. 1MB file is approximately 1 million characters.\n",
    "\n",
    ">These two should be about the same order of magnitude. It's a little tricky to tell. Here are some examples:\n",
    "\n",
    "> - I have a 100MB dataset and I'm using the default parameter settings (which currently print 150K parameters). My data size is significantly larger (100 mil >> 0.15 mil), so I expect to heavily underfit. I am thinking I can comfortably afford to make `n_hidden` larger.\n",
    "> - I have a 10MB dataset and running a 10 million parameter model. I'm slightly nervous and I'm carefully monitoring my validation loss. If it's larger than my training loss then I may want to try to increase dropout a bit and see if that helps the validation loss.\n",
    "\n",
    "> ### Best models strategy\n",
    "\n",
    ">The winning strategy to obtaining very good models (if you have the compute time) is to always err on making the network larger (as large as you're willing to wait for it to compute) and then try different dropout values (between 0,1). Whatever model has the best validation performance (the loss, written in the checkpoint filename, low is good) is the one you should use in the end.\n",
    "\n",
    ">It is very common in deep learning to run many different models with many different hyperparameter settings, and in the end take whatever checkpoint gave the best validation performance.\n",
    "\n",
    ">By the way, the size of your training and validation splits are also parameters. Make sure you have a decent amount of data in your validation set or otherwise the validation performance will be noisy and not very informative."
   ]
  },
  {
   "cell_type": "markdown",
   "metadata": {},
   "source": [
    "## Checkpoint\n",
    "\n",
    "After training, we'll save the model so we can load it again later if we need too. Here I'm saving the parameters needed to create the same architecture, the hidden layer hyperparameters and the text characters."
   ]
  },
  {
   "cell_type": "code",
   "execution_count": 16,
   "metadata": {},
   "outputs": [],
   "source": [
    "# change the name, for saving multiple files\n",
    "model_name = 'rnn_x_epoch.net'\n",
    "\n",
    "checkpoint = {'n_hidden': net.n_hidden,\n",
    "              'n_layers': net.n_layers,\n",
    "              'state_dict': net.state_dict(),\n",
    "              'tokens': net.chars}\n",
    "\n",
    "with open(model_name, 'wb') as f:\n",
    "    torch.save(checkpoint, f)"
   ]
  },
  {
   "cell_type": "markdown",
   "metadata": {},
   "source": [
    "---\n",
    "## Making Predictions\n",
    "\n",
    "Now that the model is trained, we'll want to sample from it and make predictions about next characters! To sample, we pass in a character and have the network predict the next character. Then we take that character, pass it back in, and get another predicted character. By doing this we'll generate a bunch of text!\n",
    "\n",
    "### A note on the `predict`  function\n",
    "\n",
    "The output of our RNN is from a fully-connected layer and it outputs a **distribution of next-character scores**.\n",
    "\n",
    "> To actually get the next character, we apply a softmax function, which gives us a *probability* distribution that we can then sample to predict the next character.\n",
    "\n",
    "### Top K sampling\n",
    "\n",
    "Our predictions come from a categorical probability distribution over all the possible characters. We can make the sample text and make it more reasonable to handle (with less variables) by only considering some $K$ most probable characters. This will prevent the network from giving us completely absurd characters while allowing it to introduce some noise and randomness into the sampled text. Read more about [topk, here](https://pytorch.org/docs/stable/torch.html#torch.topk).\n"
   ]
  },
  {
   "cell_type": "code",
   "execution_count": 25,
   "metadata": {},
   "outputs": [],
   "source": [
    "def predict(net, char, h=None, top_k=None):\n",
    "        ''' Given a character, predict the next character.\n",
    "            Returns the predicted character and the hidden state.\n",
    "        '''\n",
    "        \n",
    "        # tensor inputs\n",
    "        x = np.array([[net.char2int[char]]])\n",
    "        x = one_hot_encode(x, len(net.chars))\n",
    "        inputs = torch.from_numpy(x)\n",
    "        \n",
    "        if(train_on_gpu):\n",
    "            inputs = inputs.cuda()\n",
    "        \n",
    "        # detach hidden state from history\n",
    "        h = tuple([each.data for each in h])\n",
    "        # get the output of the model\n",
    "        out, h = net(inputs, h)\n",
    "\n",
    "        # get the character probabilities\n",
    "        p = F.softmax(out, dim=1).data\n",
    "        if(train_on_gpu):\n",
    "            p = p.cpu() # move to cpu\n",
    "        \n",
    "        # get top characters\n",
    "        if top_k is None:\n",
    "            top_ch = np.arange(len(net.chars))\n",
    "        else:\n",
    "            p, top_ch = p.topk(top_k)\n",
    "            top_ch = top_ch.numpy().squeeze()\n",
    "        \n",
    "        # select the likely next character with some element of randomness\n",
    "        p = p.numpy().squeeze()\n",
    "        char = np.random.choice(top_ch, p=p/p.sum())\n",
    "        \n",
    "        # return the encoded value of the predicted char and the hidden state\n",
    "        return net.int2char[char], h"
   ]
  },
  {
   "cell_type": "markdown",
   "metadata": {},
   "source": [
    "### Priming and generating text \n",
    "\n",
    "Typically we'll want to prime the network so we can build up a hidden state. Otherwise the network will start out generating characters at random. In general the first bunch of characters will be a little rough since it hasn't built up a long history of characters to predict from."
   ]
  },
  {
   "cell_type": "code",
   "execution_count": 26,
   "metadata": {},
   "outputs": [],
   "source": [
    "def sample(net, size, prime='The', top_k=None):\n",
    "        \n",
    "    if(train_on_gpu):\n",
    "        net.cuda()\n",
    "    else:\n",
    "        net.cpu()\n",
    "    \n",
    "    net.eval() # eval mode\n",
    "    \n",
    "    # First off, run through the prime characters\n",
    "    chars = [ch for ch in prime]\n",
    "    h = net.init_hidden(1)\n",
    "    for ch in prime:\n",
    "        char, h = predict(net, ch, h, top_k=top_k)\n",
    "\n",
    "    chars.append(char)\n",
    "    \n",
    "    # Now pass in the previous character and get a new one\n",
    "    for ii in range(size):\n",
    "        char, h = predict(net, chars[-1], h, top_k=top_k)\n",
    "        chars.append(char)\n",
    "\n",
    "    return ''.join(chars)"
   ]
  },
  {
   "cell_type": "code",
   "execution_count": 27,
   "metadata": {},
   "outputs": [
    {
     "name": "stdout",
     "output_type": "stream",
     "text": [
      "Anna'h only\n",
      "cried. But in woman with the contention of the farther third herself to be sund home, and the party on her condition was so attached to him.\n",
      "\n",
      "The day of the carriage.\n",
      "\n",
      "\"Why, is it?\" he said to the contrary, were so sonts of his face thought, \"I have no\n",
      "force of the\n",
      "country and to him of them over our friendly--a devotiday of the man, a man who has not heard the mother and her\n",
      "manner. He would not hell her\n",
      "she wanted to be.\"\n",
      "\n",
      "\"You've no door, but I shall be no subject to her, and thinking your can on secinated, and there was the first pircome that she was not asking of his words. It said something before her and through\n",
      "the most, the subject and half the children or the first\n",
      "thing and has said. Here they was the\n",
      "measors, one of the steps that he would say she were all to the carriages, and when she won't. And three mother was no drove for you.\" He was at finser, and\n",
      "the plance was a look of the\n",
      "manner of the sound of\n",
      "athanged. The moment with as a\n",
      "moment as though something of t\n"
     ]
    }
   ],
   "source": [
    "print(sample(net, 1000, prime='Anna', top_k=5))"
   ]
  },
  {
   "cell_type": "markdown",
   "metadata": {},
   "source": [
    "## Loading a checkpoint"
   ]
  },
  {
   "cell_type": "code",
   "execution_count": 29,
   "metadata": {},
   "outputs": [
    {
     "data": {
      "text/plain": [
       "<All keys matched successfully>"
      ]
     },
     "execution_count": 29,
     "metadata": {},
     "output_type": "execute_result"
    }
   ],
   "source": [
    "# Here we have loaded in a model that trained over 20 epochs `rnn_20_epoch.net`\n",
    "with open('rnn_x_epoch.net', 'rb') as f:\n",
    "    checkpoint = torch.load(f)\n",
    "    \n",
    "loaded = CharRNN(checkpoint['tokens'], n_hidden=checkpoint['n_hidden'], n_layers=checkpoint['n_layers'])\n",
    "loaded.load_state_dict(checkpoint['state_dict'])"
   ]
  },
  {
   "cell_type": "code",
   "execution_count": 30,
   "metadata": {},
   "outputs": [
    {
     "name": "stdout",
     "output_type": "stream",
     "text": [
      "And Levin said, to see him.\n",
      "\n",
      "She did not know it, he said. \"I'm afraid, in spearing of the store or some,\" said the possibility, which around hin as a minute that he had the same face as\n",
      "he was comfortable and to\n",
      "see him. \"Is\n",
      "with a little old picture,\" he said,\n",
      "waiting to him in\n",
      "a sister's\n",
      "words and whom he would not\n",
      "come to him and having\n",
      "recoldected that the street and thinking of\n",
      "whether he went out on his brother's wife in the round and walked into her sole,\n",
      "still more treining his being someting on\n",
      "the same family with the political steps.\n",
      "\n",
      "\"Why should be interested a men?\" he said to himself. \"Well, and\n",
      "head that\n",
      "the miseriance is a late with\n",
      "you,\"\n",
      "she said, and he felt straight in her\n",
      "clushing and contemptual tabling to\n",
      "his brother.\n",
      "\n",
      "\"Who says. I said: I'll go to something to see him and here a peasant and thinked, and then there was it a sense of all the suffering\n",
      "when you are to spread this means, that I\n",
      "won't go about the street and merely desission, when I have succeeded to her thoughts and her samoust face, but then we want to get away\n",
      "there won't be\n",
      "disagreeable, but if I have seen her sunce he's been darking for the most formorary tastes.\" The compare of the prince and the coming attition.\n",
      "\"It was some matter,\" said Stepan Arkadyevitch, and\n",
      "the same soul had been anxiety the maid to the point of homishance of the same thing.\n",
      "\n",
      "\"Well, I've come, and I'm\n",
      "so glad.\"\n",
      "\n",
      "Talk of such sorrows arranged a conversation with a character still to\n",
      "cheer, waiting to the desire.\n",
      "\n",
      "Sergey Ivanovitch's excitement was a sort of table, and the prince, and she had already seet his hind to her.\n",
      "\n",
      "\"Well, if you want to brought myself.\"\n",
      "\n",
      "\"Would you mean?\" he said in her hand.\n",
      "\n",
      "\"Ah! what's a country will brought the same for them,\" answered Vronsky, smiling.\n",
      "\n",
      "\"I went, trying to grieve a man to be on your picture and so as\n",
      "no one of the world.\"\n",
      "\n",
      "\"Not a money,\" she\n",
      "said, with suppositive studie.\n",
      "\n",
      "\"Yes, but you didn't should be step all that that sort\n",
      "mustress of his friendship was to do that to s\n"
     ]
    }
   ],
   "source": [
    "# Sample using a loaded model\n",
    "print(sample(loaded, 2000, top_k=5, prime=\"And Levin said\"))"
   ]
  }
 ],
 "metadata": {
  "kernelspec": {
   "display_name": "Python 3",
   "language": "python",
   "name": "python3"
  },
  "language_info": {
   "codemirror_mode": {
    "name": "ipython",
    "version": 3
   },
   "file_extension": ".py",
   "mimetype": "text/x-python",
   "name": "python",
   "nbconvert_exporter": "python",
   "pygments_lexer": "ipython3",
   "version": "3.7.3"
  }
 },
 "nbformat": 4,
 "nbformat_minor": 2
}
